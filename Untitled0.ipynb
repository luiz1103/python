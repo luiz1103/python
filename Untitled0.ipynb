{
  "nbformat": 4,
  "nbformat_minor": 0,
  "metadata": {
    "colab": {
      "provenance": [],
      "authorship_tag": "ABX9TyPYOyPFuKHlG/S6WuYPBKVX",
      "include_colab_link": true
    },
    "kernelspec": {
      "name": "python3",
      "display_name": "Python 3"
    },
    "language_info": {
      "name": "python"
    }
  },
  "cells": [
    {
      "cell_type": "markdown",
      "metadata": {
        "id": "view-in-github",
        "colab_type": "text"
      },
      "source": [
        "<a href=\"https://colab.research.google.com/github/luiz1103/python/blob/main/Untitled0.ipynb\" target=\"_parent\"><img src=\"https://colab.research.google.com/assets/colab-badge.svg\" alt=\"Open In Colab\"/></a>"
      ]
    },
    {
      "cell_type": "markdown",
      "source": [
        "Aula 1"
      ],
      "metadata": {
        "id": "inIxm65azbX-"
      }
    },
    {
      "cell_type": "code",
      "execution_count": 3,
      "metadata": {
        "colab": {
          "base_uri": "https://localhost:8080/"
        },
        "id": "LPZAfAK8zG6o",
        "outputId": "e5ea6fee-8f11-4853-890b-002b3acf694a"
      },
      "outputs": [
        {
          "output_type": "stream",
          "name": "stdout",
          "text": [
            "IV  competição de programação dá Start\n"
          ]
        }
      ],
      "source": [
        "ano = \"IV\"\n",
        "print(ano, \" competição de programação dá Start\")"
      ]
    },
    {
      "cell_type": "markdown",
      "source": [
        "Aula 2"
      ],
      "metadata": {
        "id": "jsYBOUU72Mpp"
      }
    },
    {
      "cell_type": "code",
      "source": [
        "livro_ficcao = 8\n",
        "livro_n_ficcao = 10\n",
        "livro_infantil = 6\n",
        "pontos_rodrigo = livro_ficcao + livro_n_ficcao + livro_infantil\n",
        "pontos_ana = 2 * livro_ficcao + 5 * livro_infantil\n",
        "pontos_totais = pontos_rodrigo + pontos_ana\n",
        "print(f\"Os pontos totais do Rodrigo são {pontos_rodrigo}\")\n",
        "print(f\"Os pontos totais de Ana são {pontos_ana}\")\n",
        "print(f\"Os pontos totais são {pontos_totais}\")"
      ],
      "metadata": {
        "colab": {
          "base_uri": "https://localhost:8080/"
        },
        "id": "CUmMKBnb2Skg",
        "outputId": "e922b70c-4aa9-4e5a-d11e-c20a76a213fa"
      },
      "execution_count": 11,
      "outputs": [
        {
          "output_type": "stream",
          "name": "stdout",
          "text": [
            "Os pontos totais do Rodrigo são 24\n",
            "Os pontos totais de Ana são 46\n",
            "Os pontos totais são 70\n"
          ]
        }
      ]
    }
  ]
}